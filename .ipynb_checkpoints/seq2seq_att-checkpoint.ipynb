{
 "cells": [
  {
   "cell_type": "markdown",
   "metadata": {},
   "source": [
    "# Advanced dynamic bidirectional Seq2Seq with Attention "
   ]
  },
  {
   "cell_type": "markdown",
   "metadata": {},
   "source": [
    "## TensorFlow Tutorial"
   ]
  },
  {
   "cell_type": "markdown",
   "metadata": {},
   "source": [
    "In this tutorial we will create neural machine translation based on modern Attention mechanism based Seq2Seq algorithm from scratch. There are several tutorial:\n",
    "\n",
    "* Official TensorFlow Tutorial https://github.com/tensorflow/nmt\n",
    "* Official PyTorch Tutorial  https://pytorch.org/tutorials/intermediate/seq2seq_translation_tutorial.html\n",
    "\n",
    "\n",
    "But official TensorFlow Tutorial does not cover the realization of attention mechanism (using only attention wrapper), and from my opinion it is the main part of modern neural translation. The main idea was to provide a deep tutorial that step by step covers all aspect of seq2seq with attention algorithm. We we’ll use TensorFlow framework just, because we want to provide good implemented and working example based on (https://github.com/ematvey/tensorflow-seq2seq-tutorials without attention mechanism) of this idea on low level, as good as it was done in original PyTorch tutorial."
   ]
  },
  {
   "cell_type": "markdown",
   "metadata": {},
   "source": [
    "![title](pictures/attention_mechanism.jpg)"
   ]
  },
  {
   "cell_type": "markdown",
   "metadata": {},
   "source": [
    "Let start from importing libs for machine learning, linear algebra and image plotting. And start tf session."
   ]
  },
  {
   "cell_type": "code",
   "execution_count": 81,
   "metadata": {},
   "outputs": [],
   "source": [
    "import tensorflow as tf\n",
    "import numpy as np\n",
    "import matplotlib.pyplot as plt\n",
    "\n",
    "tf.reset_default_graph()\n",
    "sess = tf.InteractiveSession()"
   ]
  },
  {
   "cell_type": "code",
   "execution_count": 48,
   "metadata": {},
   "outputs": [
    {
     "data": {
      "text/plain": [
       "'1.13.0-rc1'"
      ]
     },
     "execution_count": 48,
     "metadata": {},
     "output_type": "execute_result"
    }
   ],
   "source": [
    "tf.__version__"
   ]
  },
  {
   "cell_type": "markdown",
   "metadata": {},
   "source": [
    "Now we create two functions for random string generation with variable length and fix vocab size.\n",
    "This is done for sentence imitation for task as machine translation.\n",
    "\n",
    "batch_size=200 - e.g. 200, how many sentence fit in model at one learning step (depends on ram or vram).\n",
    "\n",
    "length_from=3, length_to=15 - e.g. usually sentence have length from 3 to 15.\n",
    "\n",
    "vocab_lower=2 - we start our words index from 2. Why? \"0\" for zero PAD for long sentence. \"1\" for EOS end of the sentence token. \n",
    "\n",
    "vocab_upper=10 - e.g. our simulation of the language will have only 8 words."
   ]
  },
  {
   "cell_type": "markdown",
   "metadata": {},
   "source": [
    "## Batch Generation"
   ]
  },
  {
   "cell_type": "code",
   "execution_count": 49,
   "metadata": {},
   "outputs": [],
   "source": [
    "def batch_gen(inputs, max_sequence_length=None):\n",
    "    sequence_lengths = [len(seq) for seq in inputs]\n",
    "    batch_size = len(inputs)\n",
    "\n",
    "    if max_sequence_length is None:\n",
    "        max_sequence_length = max(sequence_lengths)\n",
    "\n",
    "    inputs_batch_major = np.zeros(shape=[batch_size, max_sequence_length], dtype=np.int32)\n",
    "\n",
    "    for i, seq in enumerate(inputs):\n",
    "        for j, element in enumerate(seq):\n",
    "            inputs_batch_major[i, j] = element\n",
    "\n",
    "    inputs_time_major = inputs_batch_major.swapaxes(0, 1)\n",
    "\n",
    "    return inputs_time_major, sequence_lengths\n",
    "\n",
    "\n",
    "def random_sequences(length_from, length_to,\n",
    "                     vocab_lower, vocab_upper,\n",
    "                     batch_size):\n",
    "    if length_from > length_to:\n",
    "            raise ValueError('length_from > length_to')\n",
    "\n",
    "    def random_length():\n",
    "        if length_from == length_to:\n",
    "            return length_from\n",
    "        return np.random.randint(length_from, length_to + 1)\n",
    "\n",
    "    while True:\n",
    "        yield [\n",
    "            np.random.randint(low=vocab_lower,\n",
    "                              high=vocab_upper,\n",
    "                              size=random_length()).tolist()\n",
    "            for _ in range(batch_size)\n",
    "        ]"
   ]
  },
  {
   "cell_type": "code",
   "execution_count": 60,
   "metadata": {},
   "outputs": [],
   "source": [
    "batch_size = 200\n",
    "\n",
    "batches = random_sequences(length_from=3, length_to=15,\n",
    "                           vocab_lower=2, vocab_upper=10,\n",
    "                           batch_size=batch_size\n",
    "                           )"
   ]
  },
  {
   "cell_type": "markdown",
   "metadata": {},
   "source": [
    "Let print two random seq sentences."
   ]
  },
  {
   "cell_type": "code",
   "execution_count": 54,
   "metadata": {},
   "outputs": [
    {
     "name": "stdout",
     "output_type": "stream",
     "text": [
      "[[3, 4, 2, 6, 5, 3, 3, 8], [2, 4, 7, 6, 6, 6]]\n"
     ]
    }
   ],
   "source": [
    "tmp_seq = next(batches)[:2]\n",
    "print(tmp_seq)"
   ]
  },
  {
   "cell_type": "markdown",
   "metadata": {},
   "source": [
    "In our example we will translate random sentence seq in the same order if sentence starts from odd word index: \"1\", \"3\", \"5\", \"7\", \"9\" and in reverse order if starts from even word index: \"2\", \"4\", \"6\", \"8\". It is done to better attention illustration."
   ]
  },
  {
   "cell_type": "code",
   "execution_count": 55,
   "metadata": {},
   "outputs": [
    {
     "name": "stdout",
     "output_type": "stream",
     "text": [
      "[[3 4 2 6 5 3 3 8 1 0 0]\n",
      " [6 6 6 7 4 2 1 0 0 0 0]]\n"
     ]
    }
   ],
   "source": [
    "tmp_decoder_targets, _ = batch_gen(\n",
    "            [(list(np.flip(sequence,0))) + [EOS] + [PAD] * 2 if sequence[0]%2 == 0 \n",
    "             else (sequence) + [EOS] + [PAD] * 2  for sequence in tmp_seq]\n",
    "            )\n",
    "print(tmp_decoder_targets.T)"
   ]
  },
  {
   "cell_type": "markdown",
   "metadata": {},
   "source": [
    "As we can see, the see the second seq is reversed, becouse it starts from \"2\" even word index."
   ]
  },
  {
   "cell_type": "markdown",
   "metadata": {},
   "source": [
    "## Model"
   ]
  },
  {
   "cell_type": "markdown",
   "metadata": {},
   "source": [
    "Let initialize our metaparameters."
   ]
  },
  {
   "cell_type": "code",
   "execution_count": 82,
   "metadata": {},
   "outputs": [],
   "source": [
    "PAD = 0 # zero padding for long sentences\n",
    "EOS = 1 # end of the sentence token\n",
    "\n",
    "vocab_size = 10 # in real language can be more than ~ 100,000\n",
    "input_embedding_size = 20 # e.g. 10 -> 20,  like word2vec 100,000 -> 300\n",
    "\n",
    "encoder_hidden_units = 10 # number of hidden neurons in encoder LSTM\n",
    "decoder_hidden_units = encoder_hidden_units * 2 # we will decode bidirectional (factor x2) encoding\n",
    "\n",
    "attention_size = 8 # number of hidden neurons in attention for basic decoder and encoder out representation\n",
    "attention_out_size = 16 # number of output neurons from attention, sizes of real examples ~ 300"
   ]
  },
  {
   "cell_type": "markdown",
   "metadata": {},
   "source": [
    "Initialize input and output placeholders."
   ]
  },
  {
   "cell_type": "code",
   "execution_count": 83,
   "metadata": {},
   "outputs": [],
   "source": [
    "encoder_inputs = tf.placeholder(shape=(None, None), dtype=tf.int32, name='encoder_inputs') # input seq\n",
    "encoder_inputs_length = tf.placeholder(shape=(None,), dtype=tf.int32, name='encoder_inputs_length') # seq len\n",
    "decoder_targets = tf.placeholder(shape=(None, None), dtype=tf.int32, name='decoder_targets') # output seq"
   ]
  },
  {
   "cell_type": "markdown",
   "metadata": {},
   "source": [
    "## Embeddings"
   ]
  },
  {
   "cell_type": "code",
   "execution_count": 84,
   "metadata": {},
   "outputs": [],
   "source": [
    "embeddings = tf.Variable(tf.random_uniform([vocab_size, input_embedding_size], -1, 1), \n",
    "                         dtype=tf.float32, name='embeddings'\n",
    "                         )\n",
    "encoder_inputs_embedded = tf.nn.embedding_lookup(embeddings, encoder_inputs)"
   ]
  },
  {
   "cell_type": "markdown",
   "metadata": {},
   "source": [
    "## Encoder"
   ]
  },
  {
   "cell_type": "code",
   "execution_count": 85,
   "metadata": {},
   "outputs": [],
   "source": [
    "from tensorflow.python.ops.rnn_cell import LSTMCell, LSTMStateTuple\n",
    "\n",
    "encoder_input_keep_prob = tf.placeholder(tf.float32, name='encoder_input_keep_prob')\n",
    "encoder_output_keep_prob = tf.placeholder(tf.float32, name='encoder_output_keep_prob')\n",
    "encoder_state_keep_prob = tf.placeholder(tf.float32, name='encoder_state_keep_prob')\n",
    "\n",
    "encoder_cell_lstm = LSTMCell(encoder_hidden_units)\n",
    "\n",
    "encoder_cell = tf.nn.rnn_cell.DropoutWrapper(\n",
    "    encoder_cell_lstm,\n",
    "    input_keep_prob=encoder_input_keep_prob,\n",
    "    output_keep_prob=encoder_output_keep_prob,\n",
    "    state_keep_prob=encoder_state_keep_prob,\n",
    "    seed=42\n",
    "    )\n",
    "\n",
    "((encoder_fw_outputs,\n",
    "  encoder_bw_outputs),\n",
    " (encoder_fw_final_state,\n",
    "  encoder_bw_final_state)) = (\n",
    "    tf.nn.bidirectional_dynamic_rnn(cell_fw=encoder_cell,\n",
    "                                    cell_bw=encoder_cell,\n",
    "                                    inputs=encoder_inputs_embedded,\n",
    "                                    sequence_length=encoder_inputs_length,\n",
    "                                    dtype=tf.float32, time_major=True)\n",
    "    )\n",
    "\n",
    "# concatenation for use information from forward and backward lstm encoding\n",
    "encoder_outputs = tf.concat((encoder_fw_outputs, encoder_bw_outputs), 2)\n",
    "\n",
    "# letters h and c are used to denote \"output value\" and \"cell state\"\n",
    "encoder_final_state_c = tf.concat(\n",
    "    (encoder_fw_final_state.c, encoder_bw_final_state.c), 1)\n",
    "\n",
    "encoder_final_state_h = tf.concat(\n",
    "    (encoder_fw_final_state.h, encoder_bw_final_state.h), 1)\n",
    "\n",
    "encoder_final_state = LSTMStateTuple(\n",
    "    c=encoder_final_state_c,\n",
    "    h=encoder_final_state_h\n",
    "    )"
   ]
  },
  {
   "cell_type": "markdown",
   "metadata": {},
   "source": [
    "## Attention Decoder"
   ]
  },
  {
   "cell_type": "markdown",
   "metadata": {},
   "source": [
    "The idea of decoder. We use raw rnn to control the internal loop for decoding to insert the attention and predicted output as a next input.\n",
    "We will describe general idea of attention:\n",
    "* (1) Attention weights is a softmax (from 0 to 1) coefficient of impotence of encoder output on each step\n",
    "* (2) Context vector is a weights sum of all encoder outputs and their attention coefficient\n",
    "* (3) Attention vector is a embedded (neural tanh activated layer) of concatenated context vector with decoder output "
   ]
  },
  {
   "cell_type": "markdown",
   "metadata": {},
   "source": [
    "![title](pictures/attention_equation_0.jpg)"
   ]
  },
  {
   "cell_type": "markdown",
   "metadata": {},
   "source": [
    "The score can be processed in different ways. We will cover Bahdanou's (4) attention in our code."
   ]
  },
  {
   "cell_type": "markdown",
   "metadata": {},
   "source": [
    "![title](pictures/attention_equation_1.jpg)"
   ]
  },
  {
   "cell_type": "markdown",
   "metadata": {},
   "source": [
    "You will see the realization of Bahdanou's attention in the code. Look for \"\"\"attention\"\"\"."
   ]
  },
  {
   "cell_type": "code",
   "execution_count": null,
   "metadata": {},
   "outputs": [],
   "source": [
    "decoder_input_keep_prob = tf.placeholder(tf.float32, name='decoder_input_keep_prob')\n",
    "decoder_output_keep_prob = tf.placeholder(tf.float32, name='decoder_output_keep_prob')\n",
    "decoder_state_keep_prob = tf.placeholder(tf.float32, name='decoder_state_keep_prob')\n",
    "\n",
    "decoder_cell_lstm = LSTMCell(decoder_hidden_units)\n",
    "decoder_cell = tf.nn.rnn_cell.DropoutWrapper(\n",
    "    decoder_cell_lstm,\n",
    "    input_keep_prob=decoder_input_keep_prob,\n",
    "    output_keep_prob=decoder_output_keep_prob,\n",
    "    state_keep_prob=decoder_state_keep_prob,\n",
    "    seed=42\n",
    "    )\n",
    "\n",
    "encoder_max_time, batch_size = tf.unstack(tf.shape(encoder_inputs))\n",
    "\n",
    "decoder_lengths = encoder_inputs_length + 3\n",
    "# +2 additional steps, +1 leading <EOS> token for decoder inputs\n",
    "\n",
    "attention_size = 8\n",
    "attention_out_size = 16\n",
    "\n",
    "#weights for emb the encoder outputs\n",
    "W1 = tf.Variable(tf.random_uniform([decoder_hidden_units, attention_size], -0.8, 0.8), \n",
    "                 dtype=tf.float32, name='W1')\n",
    "b1 = tf.Variable(tf.zeros([attention_size]), dtype=tf.float32, name='Bias')\n",
    "\n",
    "#weights for emb the decoder outputs\n",
    "W2 = tf.Variable(tf.random_uniform([decoder_hidden_units, attention_size], -0.8, 0.8), \n",
    "                 dtype=tf.float32, name='W2')\n",
    "\n",
    "#weights for attention\n",
    "Va = tf.Variable(tf.random_uniform([attention_size, 1], -0.8, 1.8), \n",
    "                 dtype=tf.float32, name='Vattention')\n",
    "ba = tf.Variable(tf.zeros([1]), dtype=tf.float32, name='Bias')\n",
    "\n",
    "#weights \n",
    "Wc = tf.Variable(tf.random_uniform([decoder_hidden_units*2, attention_out_size], -0.8, 0.8), \n",
    "                 dtype=tf.float32, name='Weights')\n",
    "bc = tf.Variable(tf.zeros([attention_out_size]), dtype=tf.float32, name='Bias')\n",
    "\n",
    "#weights for output\n",
    "Wo = tf.Variable(tf.random_uniform([attention_out_size, vocab_size], -0.8, 0.8),\n",
    "                 dtype=tf.float32, name='Weights')\n",
    "bo = tf.Variable(tf.zeros([vocab_size]), dtype=tf.float32, name='Bias')\n",
    "\n",
    "\n",
    "#Attention preparing\n",
    "encoder_outputs_b_t = tf.transpose(encoder_outputs, [1,0,2])\n",
    "attention_vector = encoder_outputs_b_t\n",
    "encoder_batch_size, encoder_max_steps, bi_encoder_dim = tf.unstack(tf.shape(attention_vector))\n",
    "attention_vector_flat = tf.reshape(attention_vector, (-1, bi_encoder_dim))\n",
    "attention_vector_weights_flat = tf.add(\n",
    "    tf.matmul(attention_vector_flat, W1), b1)\n",
    "attention_vector_weights = tf.reshape(\n",
    "    attention_vector_weights_flat, (encoder_batch_size, encoder_max_steps, attention_size))\n",
    "\n",
    "\n",
    "\n",
    "#create padded inputs for the decoder from the word embeddings\n",
    "#were telling the program to test a condition, and trigger an error if the condition is false.\n",
    "assert EOS == 1 and PAD == 0\n",
    "\n",
    "eos_time_slice = tf.ones([batch_size], dtype=tf.int32, name='EOS')\n",
    "pad_time_slice = tf.zeros([batch_size], dtype=tf.int32, name='PAD')\n",
    "\n",
    "eos_step_embedded = tf.nn.embedding_lookup(embeddings, eos_time_slice)\n",
    "pad_step_embedded = tf.nn.embedding_lookup(embeddings, pad_time_slice)\n",
    "\n",
    "#manually specifying loop function through time - to get initial cell state and input to RNN\n",
    "#normally we'd just use dynamic_rnn, but lets get detailed here with raw_rnn\n",
    "\n",
    "#we define and return these values, no operations occur here\n",
    "def loop_fn_initial():\n",
    "    initial_elements_finished = (0 >= decoder_lengths)  # all False at the initial step\n",
    "\n",
    "    initial_input = eos_step_embedded\n",
    "\n",
    "    initial_cell_state = encoder_final_state\n",
    "    initial_cell_output = None\n",
    "    initial_loop_state = None \n",
    "    return (initial_elements_finished,\n",
    "            initial_input,\n",
    "            initial_cell_state,\n",
    "            initial_cell_output,\n",
    "            initial_loop_state)\n",
    "\n",
    "#attention mechanism --choose which previously generated token to pass as input in the next timestep\n",
    "def loop_fn_transition(time, previous_output, previous_state, previous_loop_state):\n",
    "\n",
    "\n",
    "    def get_next_input():\n",
    "        \"\"\"<attention>\"\"\"\n",
    "        previous_output_weight = tf.matmul(previous_output, W2) \n",
    "        previous_output_weight_expand = tf.expand_dims(previous_output_weight, 1)\n",
    "        bahdanau_additive = tf.tanh(attention_vector_weights + previous_output_weight_expand)\n",
    "        bahdanau_additive_flat = tf.reshape(bahdanau_additive, (-1, attention_size))\n",
    "        bahdanau_attention_logits_flat = tf.add(tf.matmul(bahdanau_additive_flat, Va), ba)\n",
    "        bahdanau_attention_logits = tf.reshape(bahdanau_attention_logits_flat, \n",
    "                                               (encoder_batch_size, encoder_max_steps))\n",
    "        bahdanau_attention_softmax = tf.nn.softmax(bahdanau_attention_logits)\n",
    "        bahdanau_attention_softmax_expand = tf.expand_dims(bahdanau_attention_softmax, 1)\n",
    "        contex_vector_expand = tf.matmul(bahdanau_attention_softmax_expand, encoder_outputs_b_t)\n",
    "        contex_vector = tf.squeeze(contex_vector_expand, [1])\n",
    "        ctht = tf.concat((contex_vector,previous_output), 1)\n",
    "        at = tf.tanh(tf.add(tf.matmul(ctht, Wc), bc))\n",
    "\n",
    "        output_logits = tf.add(tf.matmul(at, Wo), bo)\n",
    "        \"\"\"</attention>\"\"\"\n",
    "        \n",
    "        prediction = tf.argmax(output_logits, axis=1)\n",
    "        \n",
    "        #embed prediction for the next input\n",
    "        next_input = tf.nn.embedding_lookup(embeddings, prediction)\n",
    "        \n",
    "        return next_input\n",
    "\n",
    "\n",
    "    elements_finished = (time >= decoder_lengths) # this operation produces boolean tensor of [batch_size]\n",
    "                                                  # defining if corresponding sequence has ended\n",
    "\n",
    "    #Computes the \"logical and\" of elements across dimensions of a tensor.\n",
    "    finished = tf.reduce_all(elements_finished) # -> boolean scalar\n",
    "    #Return either fn1() or fn2() based on the boolean predicate pred.\n",
    "    input = tf.cond(finished, lambda: pad_step_embedded, get_next_input)\n",
    "\n",
    "    #set previous to current\n",
    "    state = previous_state\n",
    "    output = previous_output\n",
    "    loop_state = None\n",
    "\n",
    "    return (elements_finished,\n",
    "            input,\n",
    "            state,\n",
    "            output,\n",
    "            loop_state)\n",
    "\n",
    "\n",
    "def loop_fn(time, previous_output, previous_state, previous_loop_state):\n",
    "    if previous_state is None:    # time == 0\n",
    "        assert previous_output is None and previous_state is None\n",
    "        return loop_fn_initial()\n",
    "    else:\n",
    "        return loop_fn_transition(time, previous_output, previous_state, previous_loop_state)\n",
    "\n",
    "\n",
    "# now we do the same things what was done in raw rnn, but outside the rnn loop \n",
    "\"\"\"<attention>\"\"\"\n",
    "decoder_outputs_ta, decoder_final_state, _ = tf.nn.raw_rnn(decoder_cell, loop_fn)\n",
    "decoder_outputs = decoder_outputs_ta.stack()\n",
    "\n",
    "decoder_outputs_b_t = tf.transpose(decoder_outputs, [1,0,2])\n",
    "decoder_batch_size, decoder_max_steps, decoder_dim = tf.unstack(tf.shape(decoder_outputs_b_t))\n",
    "decoder_outputs_flat = tf.reshape(decoder_outputs_b_t, (-1, decoder_dim))\n",
    "decoder_outputs_weight_flat = tf.matmul(decoder_outputs_flat, W2)\n",
    "decoder_outputs_weight = tf.reshape(decoder_outputs_weight_flat, \n",
    "                                    (decoder_batch_size, decoder_max_steps, attention_size))\n",
    "decoder_outputs_weight_expand =  tf.expand_dims(decoder_outputs_weight, 2)\n",
    "attention_vector_weights_expand = tf.expand_dims(attention_vector_weights, 1)\n",
    "bahdanau_additive_all = tf.tanh(attention_vector_weights_expand + decoder_outputs_weight_expand)\n",
    "decoder_batch_size, decoder_max_step, encoder_max_step, attention_size = tf.unstack(\n",
    "    tf.shape(bahdanau_additive_all))\n",
    "bahdanau_additive_all_flat = tf.reshape(bahdanau_additive_all, (-1, attention_size))\n",
    "bahdanau_attention_all_logits_flat = tf.add(tf.matmul(bahdanau_additive_all_flat, Va), ba)\n",
    "bahdanau_attention_all_logits = tf.reshape(bahdanau_attention_all_logits_flat,\n",
    "                                           (decoder_batch_size, decoder_max_step, encoder_max_step))\n",
    "bahdanau_attention_all_softmax = tf.nn.softmax(bahdanau_attention_all_logits)\n",
    "contex_vector_all = tf.matmul(bahdanau_attention_all_softmax, encoder_outputs_b_t)\n",
    "ctht_all = tf.concat((contex_vector_all,decoder_outputs_b_t), 2)\n",
    "ctht_all_flat = tf.reshape(ctht_all, (-1, 2*decoder_hidden_units))\n",
    "at_all_flat = tf.tanh(tf.add(tf.matmul(ctht_all_flat, Wc), bc))\n",
    "\n",
    "keep_prob_fully_connected = tf.placeholder(tf.float32)\n",
    "at_all_flat_drop = tf.nn.dropout(at_all_flat, keep_prob_fully_connected)\n",
    "decoder_logits_all_flat = tf.add(tf.matmul(at_all_flat_drop, Wo), bo)\n",
    "decoder_logits_all_b_t = tf.reshape(decoder_logits_all_flat, \n",
    "                                    (decoder_batch_size, decoder_max_step, vocab_size))\n",
    "decoder_logits = tf.transpose(decoder_logits_all_b_t, [1,0,2])\n",
    "\"\"\"</attention>\"\"\"\n",
    "                                        \n",
    "#final prediction\n",
    "decoder_prediction = tf.argmax(decoder_logits, 2)\n"
   ]
  },
  {
   "cell_type": "markdown",
   "metadata": {},
   "source": [
    "As you can see, we have two parts with attention code. This is redundant, but it is the way to implement in in the (internal) loop of rnn to pass predicted value as the next input and to predict all seq at one time in the end of decoding (external)."
   ]
  },
  {
   "cell_type": "markdown",
   "metadata": {},
   "source": [
    "## Loss"
   ]
  },
  {
   "cell_type": "code",
   "execution_count": 89,
   "metadata": {},
   "outputs": [],
   "source": [
    "#cross entropy loss\n",
    "\n",
    "stepwise_cross_entropy = tf.nn.softmax_cross_entropy_with_logits_v2(\n",
    "    labels=tf.one_hot(decoder_targets, depth=vocab_size, dtype=tf.float32),\n",
    "    logits=decoder_logits,\n",
    "    )\n",
    "\n",
    "loss = tf.reduce_mean(stepwise_cross_entropy)\n",
    "\n",
    "train_op = tf.train.AdamOptimizer(0.001).minimize(loss)\n",
    "\n",
    "sess.run(tf.global_variables_initializer())"
   ]
  },
  {
   "cell_type": "markdown",
   "metadata": {},
   "source": [
    "## Train"
   ]
  },
  {
   "cell_type": "markdown",
   "metadata": {},
   "source": [
    "Let initialize our training parameters."
   ]
  },
  {
   "cell_type": "code",
   "execution_count": 94,
   "metadata": {},
   "outputs": [
    {
     "name": "stdout",
     "output_type": "stream",
     "text": [
      "head of the batch:\n",
      "[8, 3, 4, 4]\n",
      "[9, 8, 2, 9, 5, 2]\n"
     ]
    }
   ],
   "source": [
    "batch_size = 200\n",
    "\n",
    "batches = random_sequences(length_from=3, length_to=15,\n",
    "                                   vocab_lower=2, vocab_upper=10,\n",
    "                                   batch_size=batch_size)\n",
    "\n",
    "print('head of the batch:')\n",
    "for seq in next(batches)[:2]:\n",
    "    print(seq)\n",
    "\n",
    "def next_feed():\n",
    "    batch = next(batches)\n",
    "    encoder_inputs_, encoder_input_lengths_ = batch_gen(batch)\n",
    "\n",
    "#    decoder_targets_, _ = batch_gen(\n",
    "#        [(sequence) + [EOS] + [PAD] * 2 for sequence in batch]\n",
    "#    )\n",
    "    \n",
    "    decoder_targets_, _ = batch_gen(\n",
    "            [(list(np.flip(sequence,0))) + [EOS] + [PAD] * 2 if sequence[0]%2 == 0 \n",
    "             else (sequence) + [EOS] + [PAD] * 2  for sequence in batch]\n",
    "            )\n",
    "    \n",
    "\n",
    "    return {\n",
    "        encoder_inputs: encoder_inputs_,\n",
    "        encoder_inputs_length: encoder_input_lengths_,\n",
    "        decoder_targets: decoder_targets_,\n",
    "        encoder_input_keep_prob: 1,\n",
    "        encoder_output_keep_prob: 1,\n",
    "        encoder_state_keep_prob: 1,\n",
    "        decoder_input_keep_prob: 1,\n",
    "        decoder_output_keep_prob: 1,\n",
    "        decoder_state_keep_prob: 1,\n",
    "        keep_prob_fully_connected: 1.,\n",
    "    }\n",
    "\n"
   ]
  },
  {
   "cell_type": "markdown",
   "metadata": {},
   "source": [
    "Let start!"
   ]
  },
  {
   "cell_type": "code",
   "execution_count": 95,
   "metadata": {},
   "outputs": [
    {
     "name": "stdout",
     "output_type": "stream",
     "text": [
      "batch 0\n",
      "  minibatch loss: 2.420614719390869\n",
      "  sample 1:\n",
      "    input     > 567742444248863\n",
      "    predicted > 777212143331433148\n"
     ]
    },
    {
     "data": {
      "image/png": "[encoded data removed]",
      "text/plain": [
       "<Figure size 432x288 with 1 Axes>"
      ]
     },
     "metadata": {
      "needs_background": "light"
     },
     "output_type": "display_data"
    },
    {
     "name": "stdout",
     "output_type": "stream",
     "text": [
      "  sample 2:\n",
      "    input     > 629364779460000\n",
      "    predicted > 000585858858582222\n"
     ]
    },
    {
     "data": {
      "image/png": "[encoded data removed]",
      "text/plain": [
       "<Figure size 432x288 with 1 Axes>"
      ]
     },
     "metadata": {
      "needs_background": "light"
     },
     "output_type": "display_data"
    },
    {
     "name": "stdout",
     "output_type": "stream",
     "text": [
      "  sample 3:\n",
      "    input     > 425769556863000\n",
      "    predicted > 000888588888588333\n"
     ]
    },
    {
     "data": {
      "image/png": "[encoded data removed]",
      "text/plain": [
       "<Figure size 432x288 with 1 Axes>"
      ]
     },
     "metadata": {
      "needs_background": "light"
     },
     "output_type": "display_data"
    },
    {
     "name": "stdout",
     "output_type": "stream",
     "text": [
      "  sample 4:\n",
      "    input     > 569563432600000\n",
      "    predicted > 000088588858833333\n"
     ]
    },
    {
     "data": {
      "image/png": "[encoded data removed]",
      "text/plain": [
       "<Figure size 432x288 with 1 Axes>"
      ]
     },
     "metadata": {
      "needs_background": "light"
     },
     "output_type": "display_data"
    },
    {
     "name": "stdout",
     "output_type": "stream",
     "text": [
      "  sample 5:\n",
      "    input     > 669326394479880\n",
      "    predicted > 000058858858858852\n"
     ]
    },
    {
     "data": {
      "image/png": "[encoded data removed]",
      "text/plain": [
       "<Figure size 432x288 with 1 Axes>"
      ]
     },
     "metadata": {
      "needs_background": "light"
     },
     "output_type": "display_data"
    },
    {
     "name": "stdout",
     "output_type": "stream",
     "text": [
      "  sample 6:\n",
      "    input     > 877572620000000\n",
      "    predicted > 100058585851111111\n"
     ]
    },
    {
     "data": {
      "image/png": "[encoded data removed]",
      "text/plain": [
       "<Figure size 432x288 with 1 Axes>"
      ]
     },
     "metadata": {
      "needs_background": "light"
     },
     "output_type": "display_data"
    },
    {
     "name": "stdout",
     "output_type": "stream",
     "text": [
      "\n",
      "batch 500\n",
      "  minibatch loss: 0.8955299258232117\n",
      "  sample 1:\n",
      "    input     > 932559539563000\n",
      "    predicted > 999955599966100000\n"
     ]
    },
    {
     "data": {
      "image/png": "[encoded data removed]",
      "text/plain": [
       "<Figure size 432x288 with 1 Axes>"
      ]
     },
     "metadata": {
      "needs_background": "light"
     },
     "output_type": "display_data"
    },
    {
     "name": "stdout",
     "output_type": "stream",
     "text": [
      "  sample 2:\n",
      "    input     > 548000000000000\n",
      "    predicted > 588100000000000000\n"
     ]
    },
    {
     "data": {
      "image/png": "[encoded data removed]",
      "text/plain": [
       "<Figure size 432x288 with 1 Axes>"
      ]
     },
     "metadata": {
      "needs_background": "light"
     },
     "output_type": "display_data"
    },
    {
     "name": "stdout",
     "output_type": "stream",
     "text": [
      "  sample 3:\n",
      "    input     > 326000000000000\n",
      "    predicted > 336100000000000000\n"
     ]
    },
    {
     "data": {
      "image/png": "[encoded data removed]",
      "text/plain": [
       "<Figure size 432x288 with 1 Axes>"
      ]
     },
     "metadata": {
      "needs_background": "light"
     },
     "output_type": "display_data"
    },
    {
     "name": "stdout",
     "output_type": "stream",
     "text": [
      "  sample 4:\n",
      "    input     > 235429320000000\n",
      "    predicted > 922222221000000000\n"
     ]
    },
    {
     "data": {
      "image/png": "[encoded data removed]",
      "text/plain": [
       "<Figure size 432x288 with 1 Axes>"
      ]
     },
     "metadata": {
      "needs_background": "light"
     },
     "output_type": "display_data"
    },
    {
     "name": "stdout",
     "output_type": "stream",
     "text": [
      "  sample 5:\n",
      "    input     > 874000000000000\n",
      "    predicted > 788100000000000000\n"
     ]
    },
    {
     "data": {
      "image/png": "[encoded data removed]",
      "text/plain": [
       "<Figure size 432x288 with 1 Axes>"
      ]
     },
     "metadata": {
      "needs_background": "light"
     },
     "output_type": "display_data"
    },
    {
     "name": "stdout",
     "output_type": "stream",
     "text": [
      "  sample 6:\n",
      "    input     > 637242436342520\n",
      "    predicted > 334444444444441000\n"
     ]
    },
    {
     "data": {
      "image/png": "[encoded data removed]",
      "text/plain": [
       "<Figure size 432x288 with 1 Axes>"
      ]
     },
     "metadata": {
      "needs_background": "light"
     },
     "output_type": "display_data"
    },
    {
     "name": "stdout",
     "output_type": "stream",
     "text": [
      "\n",
      "batch 1000\n",
      "  minibatch loss: 0.7308144569396973\n",
      "  sample 1:\n",
      "    input     > 395864000000000\n",
      "    predicted > 345564100000000000\n"
     ]
    },
    {
     "data": {
      "image/png": "[encoded data removed]",
      "text/plain": [
       "<Figure size 432x288 with 1 Axes>"
      ]
     },
     "metadata": {
      "needs_background": "light"
     },
     "output_type": "display_data"
    },
    {
     "name": "stdout",
     "output_type": "stream",
     "text": [
      "  sample 2:\n",
      "    input     > 288235236500000\n",
      "    predicted > 552223332210000000\n"
     ]
    },
    {
     "data": {
      "image/png": "[encoded data removed]",
      "text/plain": [
       "<Figure size 432x288 with 1 Axes>"
      ]
     },
     "metadata": {
      "needs_background": "light"
     },
     "output_type": "display_data"
    },
    {
     "name": "stdout",
     "output_type": "stream",
     "text": [
      "  sample 3:\n",
      "    input     > 729257436500000\n",
      "    predicted > 555277256210000000\n"
     ]
    },
    {
     "data": {
      "image/png": "[encoded data removed]",
      "text/plain": [
       "<Figure size 432x288 with 1 Axes>"
      ]
     },
     "metadata": {
      "needs_background": "light"
     },
     "output_type": "display_data"
    },
    {
     "name": "stdout",
     "output_type": "stream",
     "text": [
      "  sample 4:\n",
      "    input     > 768800000000000\n",
      "    predicted > 886810000000000000\n"
     ]
    },
    {
     "data": {
      "image/png": "[encoded data removed]",
      "text/plain": [
       "<Figure size 432x288 with 1 Axes>"
      ]
     },
     "metadata": {
      "needs_background": "light"
     },
     "output_type": "display_data"
    },
    {
     "name": "stdout",
     "output_type": "stream",
     "text": [
      "  sample 5:\n",
      "    input     > 863828798750000\n",
      "    predicted > 588888888881000000\n"
     ]
    },
    {
     "data": {
      "image/png": "[encoded data removed]",
      "text/plain": [
       "<Figure size 432x288 with 1 Axes>"
      ]
     },
     "metadata": {
      "needs_background": "light"
     },
     "output_type": "display_data"
    },
    {
     "name": "stdout",
     "output_type": "stream",
     "text": [
      "  sample 6:\n",
      "    input     > 383945850000000\n",
      "    predicted > 385493881000000000\n"
     ]
    },
    {
     "data": {
      "image/png": "[encoded data removed]",
      "text/plain": [
       "<Figure size 432x288 with 1 Axes>"
      ]
     },
     "metadata": {
      "needs_background": "light"
     },
     "output_type": "display_data"
    },
    {
     "name": "stdout",
     "output_type": "stream",
     "text": [
      "\n",
      "batch 1500\n",
      "  minibatch loss: 0.17097462713718414\n",
      "  sample 1:\n",
      "    input     > 967285500000000\n",
      "    predicted > 967285510000000000\n"
     ]
    },
    {
     "data": {
      "image/png": "[encoded data removed]",
      "text/plain": [
       "<Figure size 432x288 with 1 Axes>"
      ]
     },
     "metadata": {
      "needs_background": "light"
     },
     "output_type": "display_data"
    },
    {
     "name": "stdout",
     "output_type": "stream",
     "text": [
      "  sample 2:\n",
      "    input     > 729336446597963\n",
      "    predicted > 729366666997963100\n"
     ]
    },
    {
     "data": {
      "image/png": "[encoded data removed]",
      "text/plain": [
       "<Figure size 432x288 with 1 Axes>"
      ]
     },
     "metadata": {
      "needs_background": "light"
     },
     "output_type": "display_data"
    },
    {
     "name": "stdout",
     "output_type": "stream",
     "text": [
      "  sample 3:\n",
      "    input     > 635924988258864\n",
      "    predicted > 468828889292536100\n"
     ]
    },
    {
     "data": {
      "image/png": "[encoded data removed]",
      "text/plain": [
       "<Figure size 432x288 with 1 Axes>"
      ]
     },
     "metadata": {
      "needs_background": "light"
     },
     "output_type": "display_data"
    },
    {
     "name": "stdout",
     "output_type": "stream",
     "text": [
      "  sample 4:\n",
      "    input     > 695000000000000\n",
      "    predicted > 556100000000000000\n"
     ]
    },
    {
     "data": {
      "image/png": "[encoded data removed]",
      "text/plain": [
       "<Figure size 432x288 with 1 Axes>"
      ]
     },
     "metadata": {
      "needs_background": "light"
     },
     "output_type": "display_data"
    },
    {
     "name": "stdout",
     "output_type": "stream",
     "text": [
      "  sample 5:\n",
      "    input     > 299245788000000\n",
      "    predicted > 887542992100000000\n"
     ]
    },
    {
     "data": {
      "image/png": "[encoded data removed]",
      "text/plain": [
       "<Figure size 432x288 with 1 Axes>"
      ]
     },
     "metadata": {
      "needs_background": "light"
     },
     "output_type": "display_data"
    },
    {
     "name": "stdout",
     "output_type": "stream",
     "text": [
      "  sample 6:\n",
      "    input     > 786393239954375\n",
      "    predicted > 776393399953375100\n"
     ]
    },
    {
     "data": {
      "image/png": "[encoded data removed]",
      "text/plain": [
       "<Figure size 432x288 with 1 Axes>"
      ]
     },
     "metadata": {
      "needs_background": "light"
     },
     "output_type": "display_data"
    },
    {
     "name": "stdout",
     "output_type": "stream",
     "text": [
      "\n",
      "batch 2000\n",
      "  minibatch loss: 0.02915102429687977\n",
      "  sample 1:\n",
      "    input     > 554953458380000\n",
      "    predicted > 554953458381000000\n"
     ]
    },
    {
     "data": {
      "image/png": "[encoded data removed]",
      "text/plain": [
       "<Figure size 432x288 with 1 Axes>"
      ]
     },
     "metadata": {
      "needs_background": "light"
     },
     "output_type": "display_data"
    },
    {
     "name": "stdout",
     "output_type": "stream",
     "text": [
      "  sample 2:\n",
      "    input     > 399000000000000\n",
      "    predicted > 399100000000000000\n"
     ]
    },
    {
     "data": {
      "image/png": "[encoded data removed]",
      "text/plain": [
       "<Figure size 432x288 with 1 Axes>"
      ]
     },
     "metadata": {
      "needs_background": "light"
     },
     "output_type": "display_data"
    },
    {
     "name": "stdout",
     "output_type": "stream",
     "text": [
      "  sample 3:\n",
      "    input     > 723800000000000\n",
      "    predicted > 723810000000000000\n"
     ]
    },
    {
     "data": {
      "image/png": "[encoded data removed]",
      "text/plain": [
       "<Figure size 432x288 with 1 Axes>"
      ]
     },
     "metadata": {
      "needs_background": "light"
     },
     "output_type": "display_data"
    },
    {
     "name": "stdout",
     "output_type": "stream",
     "text": [
      "  sample 4:\n",
      "    input     > 663555333798000\n",
      "    predicted > 897333555366100000\n"
     ]
    },
    {
     "data": {
      "image/png": "[encoded data removed]",
      "text/plain": [
       "<Figure size 432x288 with 1 Axes>"
      ]
     },
     "metadata": {
      "needs_background": "light"
     },
     "output_type": "display_data"
    },
    {
     "name": "stdout",
     "output_type": "stream",
     "text": [
      "  sample 5:\n",
      "    input     > 685293689496700\n",
      "    predicted > 769498639258610000\n"
     ]
    },
    {
     "data": {
      "image/png": "[encoded data removed]",
      "text/plain": [
       "<Figure size 432x288 with 1 Axes>"
      ]
     },
     "metadata": {
      "needs_background": "light"
     },
     "output_type": "display_data"
    },
    {
     "name": "stdout",
     "output_type": "stream",
     "text": [
      "  sample 6:\n",
      "    input     > 589565730000000\n",
      "    predicted > 589565731000000000\n"
     ]
    },
    {
     "data": {
      "image/png": "[encoded data removed]",
      "text/plain": [
       "<Figure size 432x288 with 1 Axes>"
      ]
     },
     "metadata": {
      "needs_background": "light"
     },
     "output_type": "display_data"
    },
    {
     "name": "stdout",
     "output_type": "stream",
     "text": [
      "\n",
      "batch 2500\n",
      "  minibatch loss: 0.011121091432869434\n",
      "  sample 1:\n",
      "    input     > 278540000000000\n",
      "    predicted > 458721000000000000\n"
     ]
    },
    {
     "data": {
      "image/png": "[encoded data removed]",
      "text/plain": [
       "<Figure size 432x288 with 1 Axes>"
      ]
     },
     "metadata": {
      "needs_background": "light"
     },
     "output_type": "display_data"
    },
    {
     "name": "stdout",
     "output_type": "stream",
     "text": [
      "  sample 2:\n",
      "    input     > 894853332685850\n",
      "    predicted > 585862333584981000\n"
     ]
    },
    {
     "data": {
      "image/png": "[encoded data removed]",
      "text/plain": [
       "<Figure size 432x288 with 1 Axes>"
      ]
     },
     "metadata": {
      "needs_background": "light"
     },
     "output_type": "display_data"
    },
    {
     "name": "stdout",
     "output_type": "stream",
     "text": [
      "  sample 3:\n",
      "    input     > 546246633000000\n",
      "    predicted > 546246633100000000\n"
     ]
    },
    {
     "data": {
      "image/png": "[encoded data removed]",
      "text/plain": [
       "<Figure size 432x288 with 1 Axes>"
      ]
     },
     "metadata": {
      "needs_background": "light"
     },
     "output_type": "display_data"
    },
    {
     "name": "stdout",
     "output_type": "stream",
     "text": [
      "  sample 4:\n",
      "    input     > 593600000000000\n",
      "    predicted > 593610000000000000\n"
     ]
    },
    {
     "data": {
      "image/png": "[encoded data removed]",
      "text/plain": [
       "<Figure size 432x288 with 1 Axes>"
      ]
     },
     "metadata": {
      "needs_background": "light"
     },
     "output_type": "display_data"
    },
    {
     "name": "stdout",
     "output_type": "stream",
     "text": [
      "  sample 5:\n",
      "    input     > 937552432000000\n",
      "    predicted > 937552432100000000\n"
     ]
    },
    {
     "data": {
      "image/png": "[encoded data removed]",
      "text/plain": [
       "<Figure size 432x288 with 1 Axes>"
      ]
     },
     "metadata": {
      "needs_background": "light"
     },
     "output_type": "display_data"
    },
    {
     "name": "stdout",
     "output_type": "stream",
     "text": [
      "  sample 6:\n",
      "    input     > 798536688667000\n",
      "    predicted > 798536688667100000\n"
     ]
    },
    {
     "data": {
      "image/png": "[encoded data removed]",
      "text/plain": [
       "<Figure size 432x288 with 1 Axes>"
      ]
     },
     "metadata": {
      "needs_background": "light"
     },
     "output_type": "display_data"
    },
    {
     "name": "stdout",
     "output_type": "stream",
     "text": [
      "\n",
      "batch 3000\n",
      "  minibatch loss: 0.004724220838397741\n",
      "  sample 1:\n",
      "    input     > 575287948850000\n",
      "    predicted > 575287948851000000\n"
     ]
    },
    {
     "data": {
      "image/png": "[encoded data removed]",
      "text/plain": [
       "<Figure size 432x288 with 1 Axes>"
      ]
     },
     "metadata": {
      "needs_background": "light"
     },
     "output_type": "display_data"
    },
    {
     "name": "stdout",
     "output_type": "stream",
     "text": [
      "  sample 2:\n",
      "    input     > 627528634800000\n",
      "    predicted > 843682572610000000\n"
     ]
    },
    {
     "data": {
      "image/png": "[encoded data removed]",
      "text/plain": [
       "<Figure size 432x288 with 1 Axes>"
      ]
     },
     "metadata": {
      "needs_background": "light"
     },
     "output_type": "display_data"
    },
    {
     "name": "stdout",
     "output_type": "stream",
     "text": [
      "  sample 3:\n",
      "    input     > 696684570000000\n",
      "    predicted > 754866961000000000\n"
     ]
    },
    {
     "data": {
      "image/png": "[encoded data removed]",
      "text/plain": [
       "<Figure size 432x288 with 1 Axes>"
      ]
     },
     "metadata": {
      "needs_background": "light"
     },
     "output_type": "display_data"
    },
    {
     "name": "stdout",
     "output_type": "stream",
     "text": [
      "  sample 4:\n",
      "    input     > 223765000000000\n",
      "    predicted > 567322100000000000\n"
     ]
    },
    {
     "data": {
      "image/png": "[encoded data removed]",
      "text/plain": [
       "<Figure size 432x288 with 1 Axes>"
      ]
     },
     "metadata": {
      "needs_background": "light"
     },
     "output_type": "display_data"
    },
    {
     "name": "stdout",
     "output_type": "stream",
     "text": [
      "  sample 5:\n",
      "    input     > 656387599000000\n",
      "    predicted > 995783656100000000\n"
     ]
    },
    {
     "data": {
      "image/png": "[encoded data removed]",
      "text/plain": [
       "<Figure size 432x288 with 1 Axes>"
      ]
     },
     "metadata": {
      "needs_background": "light"
     },
     "output_type": "display_data"
    },
    {
     "name": "stdout",
     "output_type": "stream",
     "text": [
      "  sample 6:\n",
      "    input     > 484793720000000\n",
      "    predicted > 273974841000000000\n"
     ]
    },
    {
     "data": {
      "image/png": "[encoded data removed]",
      "text/plain": [
       "<Figure size 432x288 with 1 Axes>"
      ]
     },
     "metadata": {
      "needs_background": "light"
     },
     "output_type": "display_data"
    },
    {
     "name": "stdout",
     "output_type": "stream",
     "text": [
      "\n",
      "loss 0.0047 after 600200 examples (batch_size=200)\n"
     ]
    },
    {
     "data": {
      "image/png": "[encoded data removed]",
      "text/plain": [
       "<Figure size 432x288 with 1 Axes>"
      ]
     },
     "metadata": {
      "needs_background": "light"
     },
     "output_type": "display_data"
    }
   ],
   "source": [
    "loss_track = []\n",
    "\n",
    "\n",
    "max_batches = 3001\n",
    "batches_in_epoch = 500\n",
    "\n",
    "try:\n",
    "    for batch in range(max_batches):\n",
    "        fd = next_feed()\n",
    "        _, l = sess.run([train_op, loss], fd)\n",
    "        loss_track.append(l)\n",
    "\n",
    "        if batch == 0 or batch % batches_in_epoch == 0:\n",
    "            print('batch {}'.format(batch))\n",
    "            print('  minibatch loss: {}'.format(sess.run(loss, fd)))\n",
    "            predict_, atts = sess.run((decoder_prediction, bahdanau_attention_all_softmax), fd)\n",
    "            for i, (inp, pred, att) in enumerate(zip(fd[encoder_inputs].T, predict_.T, atts)):\n",
    "                print('  sample {}:'.format(i + 1))\n",
    "                print('    input     > {}'.format(''.join([str(v) for v in inp])))\n",
    "                print('    predicted > {}'.format(''.join([str(v) for v in pred])))\n",
    "                plt.imshow(att)\n",
    "                plt.show()\n",
    "                if i >= 5:\n",
    "                    break\n",
    "            print()\n",
    "\n",
    "except KeyboardInterrupt:\n",
    "    print('training interrupted')\n",
    "\n",
    "\n",
    "#%matplotlib inline\n",
    "import matplotlib.pyplot as plt\n",
    "plt.plot(loss_track)\n",
    "print('loss {:.4f} after {} examples (batch_size={})'.format(loss_track[-1], \n",
    "                                                             len(loss_track)*batch_size, batch_size))"
   ]
  },
  {
   "cell_type": "code",
   "execution_count": null,
   "metadata": {},
   "outputs": [],
   "source": []
  }
 ],
 "metadata": {
  "kernelspec": {
   "display_name": "Python 3",
   "language": "python",
   "name": "python3"
  },
  "language_info": {
   "codemirror_mode": {
    "name": "ipython",
    "version": 3
   },
   "file_extension": ".py",
   "mimetype": "text/x-python",
   "name": "python",
   "nbconvert_exporter": "python",
   "pygments_lexer": "ipython3",
   "version": "3.6.8"
  }
 },
 "nbformat": 4,
 "nbformat_minor": 2
}
